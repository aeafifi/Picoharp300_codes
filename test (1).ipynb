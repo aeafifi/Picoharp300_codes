{
 "cells": [
  {
   "cell_type": "code",
   "execution_count": 126,
   "metadata": {},
   "outputs": [],
   "source": [
    "import pyvisa as visa\n",
    "import time\n",
    "import numpy as np\n",
    "import matplotlib.pyplot as plt"
   ]
  },
  {
   "cell_type": "code",
   "execution_count": 127,
   "metadata": {},
   "outputs": [],
   "source": [
    "rm = visa.ResourceManager()"
   ]
  },
  {
   "cell_type": "code",
   "execution_count": 128,
   "metadata": {},
   "outputs": [
    {
     "data": {
      "text/plain": [
       "('ASRL10::INSTR', 'GPIB0::7::INSTR', 'GPIB0::11::INSTR')"
      ]
     },
     "execution_count": 128,
     "metadata": {},
     "output_type": "execute_result"
    }
   ],
   "source": [
    "rm.list_resources()"
   ]
  },
  {
   "cell_type": "code",
   "execution_count": 129,
   "metadata": {},
   "outputs": [],
   "source": [
    "inst_top = rm.open_resource('GPIB0::7::INSTR')\n",
    "inst_bot = rm.open_resource('GPIB0::11::INSTR')\n",
    "my_inst = [inst_top,inst_bot]"
   ]
  },
  {
   "cell_type": "code",
   "execution_count": 130,
   "metadata": {},
   "outputs": [],
   "source": [
    "for inst in my_inst:\n",
    "    \n",
    "    inst.write(':OUTP1 ON') # Output1 ON\n",
    "    inst.write(':OUTP1:IMP 50OHM') # Output Impedance\n",
    "    inst.write(':OUTP1:POL INV') # Invert Output (negative polarity)\n",
    "    inst.write(':PULS:TRAN1 1.9NS')"
   ]
  },
  {
   "cell_type": "code",
   "execution_count": 131,
   "metadata": {},
   "outputs": [
    {
     "data": {
      "text/plain": [
       "(18, <StatusCode.success: 0>)"
      ]
     },
     "execution_count": 131,
     "metadata": {},
     "output_type": "execute_result"
    }
   ],
   "source": [
    "inst_top.write(':ARM:SOUR EXT1') # External Trigger\n",
    "inst_top.write(':ARM:LEV -0.5V') # Trigger Level\n",
    "inst_top.write(':PULS:DEL1 0NS') # Pulse Delay\n",
    "inst_top.write(':PULS:WIDT1 20NS') # Pulse Width\n",
    "\n",
    "inst_top.write(':VOLT1:HIGH 0V') # Voltage High\n",
    "inst_top.write(':VOLT1:LOW -0.4V') # Voltage Low"
   ]
  },
  {
   "cell_type": "code",
   "execution_count": 132,
   "metadata": {},
   "outputs": [
    {
     "data": {
      "text/plain": [
       "(18, <StatusCode.success: 0>)"
      ]
     },
     "execution_count": 132,
     "metadata": {},
     "output_type": "execute_result"
    }
   ],
   "source": [
    "inst_bot.write(':ARM:SOUR EXT1') # External Trigger\n",
    "inst_bot.write(':ARM:LEV -0.5V') # Trigger Level\n",
    "inst_bot.write(':PULS:DEL1 0NS') # Pulse Delay\n",
    "inst_bot.write(':PULS:WIDT1 20NS') # Pulse Width\n",
    "\n",
    "inst_bot.write(':VOLT1:LIM:STAT OFF') # High Voltage Limit\n",
    "inst_bot.write(':VOLT1:HIGH 0V') # Voltage High\n",
    "inst_bot.write(':VOLT1:LOW -0.4V') # Voltage Low\n",
    "\n",
    "\n",
    "# top and bot has relative delay of ~ 30 ns, top one is earlier"
   ]
  },
  {
   "cell_type": "code",
   "execution_count": 63,
   "metadata": {},
   "outputs": [
    {
     "name": "stdout",
     "output_type": "stream",
     "text": [
      "Estimated time is 3051 sec, or 50 min\n"
     ]
    }
   ],
   "source": [
    "# Prepare list of delays to be scanned over, go and fro\n",
    "\n",
    "offset = 0 # ns\n",
    "step = 5 # ns\n",
    "time_span = 320 # ns\n",
    "num_point = int(time_span/step)\n",
    "t = np.zeros((2,num_point*4+12))\n",
    "t[0] = np.concatenate(([0,0,0,0,0,0],\n",
    "                       np.linspace(0.5,time_span,num_point),\n",
    "                       np.linspace(time_span-step,0,num_point),\n",
    "                       np.linspace(0.5,time_span,num_point),\n",
    "                       np.linspace(time_span-step,0,num_point),\n",
    "                       [0,0,0,0,0,0]))\n",
    "t[0] = t[0]+offset\n",
    "print('Estimated time is %d sec, or %d min' \n",
    "      % (len(t[0])-1,(len(t[0])-1)/60))"
   ]
  },
  {
   "cell_type": "code",
   "execution_count": 192,
   "metadata": {},
   "outputs": [
    {
     "name": "stdout",
     "output_type": "stream",
     "text": [
      "Estimated time is 91 sec, or 1 min\n"
     ]
    }
   ],
   "source": [
    "# Prepare list of delays to be scanned over, one time only\n",
    "\n",
    "offset =0 # ns\n",
    "step = 5 # ns\n",
    "pause = 1 # s\n",
    "time_span = 400 # ns\n",
    "num_point = int(time_span/step)\n",
    "t = np.zeros((3,num_point+12))\n",
    "t[0] = np.concatenate(([0,0,0,0,0,0],\n",
    "                       np.linspace(step,time_span,num_point),\n",
    "                       [0,0,0,0,0,0]))\n",
    "t[0] = t[0]+offset\n",
    "print('Estimated time is %d sec, or %d min' \n",
    "      % ((len(t[0])-1)*pause,(len(t[0])-1)*pause/60))"
   ]
  },
  {
   "cell_type": "code",
   "execution_count": 274,
   "metadata": {
    "scrolled": false
   },
   "outputs": [],
   "source": [
    "a = t[0]"
   ]
  },
  {
   "cell_type": "code",
   "execution_count": 193,
   "metadata": {},
   "outputs": [
    {
     "name": "stdout",
     "output_type": "stream",
     "text": [
      "Actual elapsed time is 91 sec\n"
     ]
    }
   ],
   "source": [
    "# Send the list of delays to pulse generator to start the scan\n",
    "\n",
    "inst_bot.write(':OUTP1 ON')\n",
    "start_time = time.time()\n",
    "for ii in range(len(t[0])-1):\n",
    "    \n",
    "    t[2][ii] = time.time()-start_time\n",
    "    inst_bot.write(':PULS:DEL1 '+str(t[0][ii]) +'NS')\n",
    "    t[1][ii] = time.time()-start_time\n",
    "    time.sleep(pause)\n",
    "\n",
    "t[1][-1] = time.time()-start_time\n",
    "inst_bot.write(':OUTP1 OFF')\n",
    "\n",
    "print('Actual elapsed time is %d sec' %(t[1][-1]))"
   ]
  },
  {
   "cell_type": "code",
   "execution_count": 70,
   "metadata": {},
   "outputs": [
    {
     "data": {
      "text/plain": [
       "(12, <StatusCode.success: 0>)"
      ]
     },
     "execution_count": 70,
     "metadata": {},
     "output_type": "execute_result"
    }
   ],
   "source": [
    "inst_top.write(':OUTP1 OFF')\n"
   ]
  },
  {
   "cell_type": "code",
   "execution_count": 188,
   "metadata": {},
   "outputs": [
    {
     "data": {
      "text/plain": [
       "(18, <StatusCode.success: 0>)"
      ]
     },
     "execution_count": 188,
     "metadata": {},
     "output_type": "execute_result"
    }
   ],
   "source": [
    "inst_bot.write(':OUTP1 ON')\n",
    "inst_bot.write(':PULS:DEL1 320NS')\n"
   ]
  },
  {
   "cell_type": "code",
   "execution_count": 45,
   "metadata": {},
   "outputs": [],
   "source": [
    "hbar = 1.05*10**(-34) # J.s\n",
    "ev = 1.5*10**(-19) #J\n",
    "ph_qd = 0.751*ev # 1.6 micron"
   ]
  },
  {
   "cell_type": "code",
   "execution_count": 51,
   "metadata": {},
   "outputs": [
    {
     "data": {
      "text/plain": [
       "17.75410563692854"
      ]
     },
     "execution_count": 51,
     "metadata": {},
     "output_type": "execute_result"
    }
   ],
   "source": [
    "p = 0.005*10**(-9) # W\n",
    "pulse_freq = 2.5 # MHz\n",
    "ph_rate = p/(ph_qd)/(10**6) # MHz\n",
    "ph_per_pulse = ph_rate/pulse_freq # Hz\n",
    "ph_per_pulse"
   ]
  },
  {
   "cell_type": "code",
   "execution_count": 319,
   "metadata": {},
   "outputs": [
    {
     "data": {
      "text/plain": [
       "27.318807550276002"
      ]
     },
     "execution_count": 319,
     "metadata": {},
     "output_type": "execute_result"
    }
   ],
   "source": [
    "4.88/(np.log(1082/905))"
   ]
  }
 ],
 "metadata": {
  "kernelspec": {
   "display_name": "Python 3",
   "language": "python",
   "name": "python3"
  },
  "language_info": {
   "codemirror_mode": {
    "name": "ipython",
    "version": 3
   },
   "file_extension": ".py",
   "mimetype": "text/x-python",
   "name": "python",
   "nbconvert_exporter": "python",
   "pygments_lexer": "ipython3",
   "version": "3.7.3"
  }
 },
 "nbformat": 4,
 "nbformat_minor": 2
}
